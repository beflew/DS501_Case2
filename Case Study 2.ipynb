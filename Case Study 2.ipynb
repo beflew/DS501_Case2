{
 "cells": [
  {
   "cell_type": "markdown",
   "metadata": {},
   "source": [
    "#Case Study 2 : MoneyBall: data science in sports games\n",
    "** Due Date: October 7, before the class**\n",
    "\n",
    "\n",
    "<a href=\"https://www.youtube.com/watch?v=AiAHlZVgXjk\"> <img src=\"http://ia.media-imdb.com/images/M/MV5BMjAxOTU3Mzc1M15BMl5BanBnXkFtZTcwMzk1ODUzNg@@._V1_SX640_SY720_.jpg\" width=\"300px\"> </a>\n",
    "*------------"
   ]
  },
  {
   "cell_type": "markdown",
   "metadata": {},
   "source": [
    "# Background & Motivation"
   ]
  },
  {
   "cell_type": "markdown",
   "metadata": {},
   "source": [
    "<img src=\"https://upload.wikimedia.org/wikipedia/commons/a/ae/MONEYBALLchart.png\" width=\"800\">\n",
    "\n",
    "The central premise of ''Moneyball'' is that the collected wisdom of baseball insiders (including players, managers, coaches, scouts, and the front office) over the past century is subjective and often flawed. Statistics such as stolen bases, run batted in|runs batted in, and batting average, typically used to gauge players, are relics of a 19th century view of the game and the statistics that were available at the time. The book argues that the Oakland A's' front office took advantage of more analytical gauges of player performance to field a team that could compete successfully against richer competitors in Major League Baseball (MLB).\n",
    "\n",
    "Rigorous statistical analysis had demonstrated that on-base percentage and slugging percentage are better indicators of offensive success, and the A's became convinced that these qualities were cheaper to obtain on the open market than more historically valued qualities such as speed and contact. These observations often flew in the face of conventional baseball wisdom and the beliefs of many baseball scouts and executives.\n",
    "\n",
    "* By re-evaluating the strategies that produce wins on the field, the 2002 Oakland Athletics, with approximately \\$41 million in salary, were competitive with larger market teams such as the New York Yankees, who spent over $125 million in payroll that same season. Because of the team's smaller revenues, Oakland is forced to find players undervalued by the market, and their system for finding value in undervalued players has proven itself thus far.\n",
    "\n",
    "Several themes Lewis explored in the book include: insiders vs. outsiders (established traditionalists vs. upstart proponents of sabermetrics), the democratization of information causing a flattening of hierarchies, and \"the ruthless drive for efficiency that capitalism demands.\" The book also touches on Oakland's underlying economic need to stay ahead of the curve; as other teams begin mirroring Beane's strategies to evaluate offensive talent, diminishing the Athletics' advantage, Oakland begins looking for other undervalued baseball skills such as defensive capabilities.\n",
    "\n",
    "''Moneyball'' also touches on the A's methods of prospect selection. Sabermetricians argue that a college baseball player's chance of MLB success is much higher than a traditional high school draft pick. Beane maintains that high draft picks spent on high school prospects, regardless of talent or physical potential as evaluated by traditional scouting, are riskier than if they were spent on more polished college players. Lewis cites A's minor leaguer Jeremy Bonderman, drafted out of high school in 2001 over Beane's objections, as but one example of precisely the type of draft pick Beane would avoid. Bonderman had all of the traditional \"tools\" that scouts look for, but thousands of such players have been signed by MLB organizations out of high school over the years and failed to develop. Lewis explores the A's approach to the 2002 MLB Draft, when the team had a nearly unprecedented run of early picks. The book documents Beane's often-tense discussions with his scouting staff (who  favored traditional subjective evaluation of potential rather than objective sabermetrics) in preparation for the draft to the actual draft, which defied all expectations and was considered at the time a wildly successful (if unorthodox) effort by Beane.\n",
    "\n",
    "* In addition, ''Moneyball'' traces the history of the sabermetric movement back to such people as Bill James (now a member of the Boston Red Sox front office) and Craig R. Wright. Lewis explores how James' seminal ''Baseball Abstract'', an annual publication that was published from the late 1970s through the late 1980s, influenced many of the young, up-and-coming baseball minds that are now joining the ranks of baseball management.\n",
    "\n",
    "''Moneyball'' has made such an impact in professional baseball that the term itself has entered the lexicon of baseball. Teams which appear to value the concepts of sabermetrics are often said to be playing \"''Moneyball''.\" Baseball traditionalists, in particular some scouts and media members, decry the sabermetric revolution and have disparaged ''Moneyball'' for emphasizing concepts of sabermetrics over more traditional methods of player evaluation. Nevertheless, the impact of ''Moneyball'' upon major league front offices is undeniable. \n",
    "*In its wake, teams such as the New York Mets, New York Yankees, San Diego Padres, St. Louis Cardinals, Boston Red Sox, Washington Nationals, Arizona Diamondbacks, Cleveland Indians, (http://www.baseballprospectus.com/article.php?articleid=6187 - Aim For The Head: Aim For the Front Office) and the Toronto Blue Jays  have hired full-time sabermetric data scientists. \n",
    "Since the book's publication and success, Lewis has discussed plans for a sequel to ''Moneyball'' called ''Underdogs'', revisiting the players and their relative success several years into their careers. When the New York Mets hired Sandy Alderson &ndash; Beane's predecessor and mentor with the A's &ndash; as their general manager after the 2010 season, and hired Beane's former associates Paul DePodesta  and J.P. Ricciardi to the front office, the team became known as the \"Moneyball Mets\".(http://nymag.com/news/sports/games/sandy-alderson-2011-4/  The Moneyball Mets) Michael Lewis has acknowledged that the book's success may have negatively affected the Athletics' fortunes as other teams have accepted the use of sabermetrics, reducing the edge that Oakland received from using sabermetric-based evaluations. (http://www.sfgate.com/cgi-bin/article.cgi?f=/c/a/2011/09/18/SP3J1L571K.DTL&ao=all Michael Lewis on A's 'Moneyball' legacy)\n",
    "\n",
    "\n",
    "-- Cited from https://en.wikibooks.org/wiki/Data_Science:_An_Introduction/The_Impact_of_Data_Science"
   ]
  },
  {
   "cell_type": "code",
   "execution_count": 1,
   "metadata": {
    "collapsed": false
   },
   "outputs": [
    {
     "data": {
      "text/html": [
       "\n",
       "        <iframe\n",
       "            width=\"400\"\n",
       "            height=\"300\"\n",
       "            src=\"https://www.youtube.com/embed/WNlCBy07z08\"\n",
       "            frameborder=\"0\"\n",
       "            allowfullscreen\n",
       "        ></iframe>\n",
       "        "
      ],
      "text/plain": [
       "<IPython.lib.display.YouTubeVideo at 0x3b9d710>"
      ]
     },
     "execution_count": 1,
     "metadata": {},
     "output_type": "execute_result"
    }
   ],
   "source": [
    "from IPython.display import YouTubeVideo\n",
    "YouTubeVideo(\"WNlCBy07z08\")"
   ]
  },
  {
   "cell_type": "code",
   "execution_count": 3,
   "metadata": {
    "collapsed": false
   },
   "outputs": [
    {
     "data": {
      "text/html": [
       "\n",
       "        <iframe\n",
       "            width=\"400\"\n",
       "            height=\"300\"\n",
       "            src=\"https://www.youtube.com/embed/zjU7R-6ShdE\"\n",
       "            frameborder=\"0\"\n",
       "            allowfullscreen\n",
       "        ></iframe>\n",
       "        "
      ],
      "text/plain": [
       "<IPython.lib.display.YouTubeVideo at 0x3b9d978>"
      ]
     },
     "execution_count": 3,
     "metadata": {},
     "output_type": "execute_result"
    }
   ],
   "source": [
    "YouTubeVideo(\"zjU7R-6ShdE\")"
   ]
  },
  {
   "cell_type": "code",
   "execution_count": 4,
   "metadata": {
    "collapsed": false
   },
   "outputs": [
    {
     "data": {
      "text/html": [
       "\n",
       "        <iframe\n",
       "            width=\"400\"\n",
       "            height=\"300\"\n",
       "            src=\"https://www.youtube.com/embed/nK1jtVhimPA\"\n",
       "            frameborder=\"0\"\n",
       "            allowfullscreen\n",
       "        ></iframe>\n",
       "        "
      ],
      "text/plain": [
       "<IPython.lib.display.YouTubeVideo at 0x3b9d940>"
      ]
     },
     "execution_count": 4,
     "metadata": {},
     "output_type": "execute_result"
    }
   ],
   "source": [
    "YouTubeVideo(\"nK1jtVhimPA\")"
   ]
  },
  {
   "cell_type": "code",
   "execution_count": 5,
   "metadata": {
    "collapsed": false
   },
   "outputs": [
    {
     "data": {
      "text/html": [
       "\n",
       "        <iframe\n",
       "            width=\"400\"\n",
       "            height=\"300\"\n",
       "            src=\"https://www.youtube.com/embed/AxsNitIS9E8\"\n",
       "            frameborder=\"0\"\n",
       "            allowfullscreen\n",
       "        ></iframe>\n",
       "        "
      ],
      "text/plain": [
       "<IPython.lib.display.YouTubeVideo at 0x3b9da90>"
      ]
     },
     "execution_count": 5,
     "metadata": {},
     "output_type": "execute_result"
    }
   ],
   "source": [
    "YouTubeVideo(\"AxsNitIS9E8\")"
   ]
  },
  {
   "cell_type": "markdown",
   "metadata": {},
   "source": [
    "--------------\n",
    "**TEAM Members:** Please EDIT this cell and add the names of all the team members in your team\n",
    "\n",
    "    member 1\n",
    "    \n",
    "    member 2\n",
    "    \n",
    "    ..."
   ]
  },
  {
   "cell_type": "markdown",
   "metadata": {},
   "source": [
    "**Desired outcome of the case study.**\n",
    "* In this case study we will look at the NBA Data from http://stats.nba.com.\n",
    "    * It contains data about players, game details and statistics.\n",
    "* The idea is to *analyze* the data set, make *conjectures*, support or refute those conjectures with *data*, and *tell a story* about the data!\n",
    "    \n",
    "**Required Readings:** \n",
    "* http://savvastjortjoglou.com/nba-play-by-play-movements.html\n",
    "* http://savvastjortjoglou.com/nba-shot-sharts.html\n",
    "\n",
    "**Case study assumptions:**\n",
    "* You have access to a python installation\n",
    "\n",
    "**Required Python libraries:**\n",
    "* Pandas (pandas.pydata.org)\n",
    "* Matplotlib (matplotlib.org)\n",
    "* py-Goldsberry (https://github.com/bradleyfay/py-Goldsberry)\n",
    "* requests (http://www.python-requests.org/en/latest/)\n",
    "* seaborn (http://stanford.edu/~mwaskom/software/seaborn/)\n",
    "* nbastats (https://github.com/bradleyfay/NBAStats)\n",
    "* If you need help installing them then you can refer to Chapter 1 of Python for Data Analysis book\n",
    "\n",
    "** NOTE **\n",
    "* Please don't forget to save the notebook frequently when working in IPython Notebook, otherwise the changes you made can be lost.\n",
    "\n",
    "*----------------------"
   ]
  },
  {
   "cell_type": "markdown",
   "metadata": {},
   "source": [
    "# Problem 1: Collecting data about NBA players (5 points)"
   ]
  },
  {
   "cell_type": "markdown",
   "metadata": {},
   "source": [
    "* use py-Goldsberry (https://github.com/bradleyfay/py-Goldsberry) tool to get a list of NBA players's information, such as names and player IDs\n",
    "* Load the player's information into a data frame in pandas package (pandas.pydata.org)\n",
    "* You could choose to download the list players of only one year or of all years.\n",
    "* Show/print the top 20 players in the list"
   ]
  },
  {
   "cell_type": "code",
   "execution_count": 8,
   "metadata": {
    "collapsed": false
   },
   "outputs": [
    {
     "data": {
      "text/html": [
       "<div>\n",
       "<table border=\"1\" class=\"dataframe\">\n",
       "  <thead>\n",
       "    <tr style=\"text-align: right;\">\n",
       "      <th></th>\n",
       "      <th>DISPLAY_LAST_COMMA_FIRST</th>\n",
       "      <th>FROM_YEAR</th>\n",
       "      <th>PERSON_ID</th>\n",
       "      <th>PLAYERCODE</th>\n",
       "      <th>ROSTERSTATUS</th>\n",
       "      <th>TEAM_ABBREVIATION</th>\n",
       "      <th>TEAM_CITY</th>\n",
       "      <th>TEAM_CODE</th>\n",
       "      <th>TEAM_ID</th>\n",
       "      <th>TEAM_NAME</th>\n",
       "      <th>TO_YEAR</th>\n",
       "    </tr>\n",
       "  </thead>\n",
       "  <tbody>\n",
       "    <tr>\n",
       "      <th>0</th>\n",
       "      <td>Acy, Quincy</td>\n",
       "      <td>2012</td>\n",
       "      <td>203112</td>\n",
       "      <td>quincy_acy</td>\n",
       "      <td>1</td>\n",
       "      <td>SAC</td>\n",
       "      <td>Sacramento</td>\n",
       "      <td>kings</td>\n",
       "      <td>1610612758</td>\n",
       "      <td>Kings</td>\n",
       "      <td>2015</td>\n",
       "    </tr>\n",
       "    <tr>\n",
       "      <th>1</th>\n",
       "      <td>Adams, Jordan</td>\n",
       "      <td>2014</td>\n",
       "      <td>203919</td>\n",
       "      <td>jordan_adams</td>\n",
       "      <td>1</td>\n",
       "      <td>MEM</td>\n",
       "      <td>Memphis</td>\n",
       "      <td>grizzlies</td>\n",
       "      <td>1610612763</td>\n",
       "      <td>Grizzlies</td>\n",
       "      <td>2015</td>\n",
       "    </tr>\n",
       "    <tr>\n",
       "      <th>2</th>\n",
       "      <td>Adams, Steven</td>\n",
       "      <td>2013</td>\n",
       "      <td>203500</td>\n",
       "      <td>steven_adams</td>\n",
       "      <td>1</td>\n",
       "      <td>OKC</td>\n",
       "      <td>Oklahoma City</td>\n",
       "      <td>thunder</td>\n",
       "      <td>1610612760</td>\n",
       "      <td>Thunder</td>\n",
       "      <td>2015</td>\n",
       "    </tr>\n",
       "    <tr>\n",
       "      <th>3</th>\n",
       "      <td>Adrien, Jeff</td>\n",
       "      <td>2010</td>\n",
       "      <td>202399</td>\n",
       "      <td>jeff_adrien</td>\n",
       "      <td>1</td>\n",
       "      <td>NOP</td>\n",
       "      <td>New Orleans</td>\n",
       "      <td>pelicans</td>\n",
       "      <td>1610612740</td>\n",
       "      <td>Pelicans</td>\n",
       "      <td>2015</td>\n",
       "    </tr>\n",
       "    <tr>\n",
       "      <th>4</th>\n",
       "      <td>Afflalo, Arron</td>\n",
       "      <td>2007</td>\n",
       "      <td>201167</td>\n",
       "      <td>arron_afflalo</td>\n",
       "      <td>1</td>\n",
       "      <td>NYK</td>\n",
       "      <td>New York</td>\n",
       "      <td>knicks</td>\n",
       "      <td>1610612752</td>\n",
       "      <td>Knicks</td>\n",
       "      <td>2015</td>\n",
       "    </tr>\n",
       "    <tr>\n",
       "      <th>5</th>\n",
       "      <td>Agravanis, Dimitrios</td>\n",
       "      <td>2015</td>\n",
       "      <td>1626231</td>\n",
       "      <td>dimitrios_agravanis</td>\n",
       "      <td>1</td>\n",
       "      <td>ATL</td>\n",
       "      <td>Atlanta</td>\n",
       "      <td>hawks</td>\n",
       "      <td>1610612737</td>\n",
       "      <td>Hawks</td>\n",
       "      <td>2015</td>\n",
       "    </tr>\n",
       "    <tr>\n",
       "      <th>6</th>\n",
       "      <td>Ajinca, Alexis</td>\n",
       "      <td>2008</td>\n",
       "      <td>201582</td>\n",
       "      <td>alexis_ajinca</td>\n",
       "      <td>1</td>\n",
       "      <td>NOP</td>\n",
       "      <td>New Orleans</td>\n",
       "      <td>pelicans</td>\n",
       "      <td>1610612740</td>\n",
       "      <td>Pelicans</td>\n",
       "      <td>2015</td>\n",
       "    </tr>\n",
       "    <tr>\n",
       "      <th>7</th>\n",
       "      <td>Aldemir, Furkan</td>\n",
       "      <td>2014</td>\n",
       "      <td>203128</td>\n",
       "      <td>furkan_aldemir</td>\n",
       "      <td>1</td>\n",
       "      <td>PHI</td>\n",
       "      <td>Philadelphia</td>\n",
       "      <td>sixers</td>\n",
       "      <td>1610612755</td>\n",
       "      <td>76ers</td>\n",
       "      <td>2015</td>\n",
       "    </tr>\n",
       "    <tr>\n",
       "      <th>8</th>\n",
       "      <td>Aldrich, Cole</td>\n",
       "      <td>2010</td>\n",
       "      <td>202332</td>\n",
       "      <td>cole_aldrich</td>\n",
       "      <td>1</td>\n",
       "      <td>LAC</td>\n",
       "      <td>Los Angeles</td>\n",
       "      <td>clippers</td>\n",
       "      <td>1610612746</td>\n",
       "      <td>Clippers</td>\n",
       "      <td>2015</td>\n",
       "    </tr>\n",
       "    <tr>\n",
       "      <th>9</th>\n",
       "      <td>Aldridge, LaMarcus</td>\n",
       "      <td>2006</td>\n",
       "      <td>200746</td>\n",
       "      <td>lamarcus_aldridge</td>\n",
       "      <td>1</td>\n",
       "      <td>SAS</td>\n",
       "      <td>San Antonio</td>\n",
       "      <td>spurs</td>\n",
       "      <td>1610612759</td>\n",
       "      <td>Spurs</td>\n",
       "      <td>2015</td>\n",
       "    </tr>\n",
       "    <tr>\n",
       "      <th>10</th>\n",
       "      <td>Alexander, Cliff</td>\n",
       "      <td>2015</td>\n",
       "      <td>1626146</td>\n",
       "      <td>cliff_alexander</td>\n",
       "      <td>1</td>\n",
       "      <td>POR</td>\n",
       "      <td>Portland</td>\n",
       "      <td>blazers</td>\n",
       "      <td>1610612757</td>\n",
       "      <td>Trail Blazers</td>\n",
       "      <td>2015</td>\n",
       "    </tr>\n",
       "    <tr>\n",
       "      <th>11</th>\n",
       "      <td>Allen, Lavoy</td>\n",
       "      <td>2011</td>\n",
       "      <td>202730</td>\n",
       "      <td>lavoy_allen</td>\n",
       "      <td>1</td>\n",
       "      <td>IND</td>\n",
       "      <td>Indiana</td>\n",
       "      <td>pacers</td>\n",
       "      <td>1610612754</td>\n",
       "      <td>Pacers</td>\n",
       "      <td>2015</td>\n",
       "    </tr>\n",
       "    <tr>\n",
       "      <th>12</th>\n",
       "      <td>Allen, Tony</td>\n",
       "      <td>2004</td>\n",
       "      <td>2754</td>\n",
       "      <td>tony_allen</td>\n",
       "      <td>1</td>\n",
       "      <td>MEM</td>\n",
       "      <td>Memphis</td>\n",
       "      <td>grizzlies</td>\n",
       "      <td>1610612763</td>\n",
       "      <td>Grizzlies</td>\n",
       "      <td>2015</td>\n",
       "    </tr>\n",
       "    <tr>\n",
       "      <th>13</th>\n",
       "      <td>Aminu, Al-Farouq</td>\n",
       "      <td>2010</td>\n",
       "      <td>202329</td>\n",
       "      <td>al-farouq_aminu</td>\n",
       "      <td>1</td>\n",
       "      <td>POR</td>\n",
       "      <td>Portland</td>\n",
       "      <td>blazers</td>\n",
       "      <td>1610612757</td>\n",
       "      <td>Trail Blazers</td>\n",
       "      <td>2015</td>\n",
       "    </tr>\n",
       "    <tr>\n",
       "      <th>14</th>\n",
       "      <td>Amundson, Lou</td>\n",
       "      <td>2006</td>\n",
       "      <td>200811</td>\n",
       "      <td>lou_amundson</td>\n",
       "      <td>1</td>\n",
       "      <td>NYK</td>\n",
       "      <td>New York</td>\n",
       "      <td>knicks</td>\n",
       "      <td>1610612752</td>\n",
       "      <td>Knicks</td>\n",
       "      <td>2015</td>\n",
       "    </tr>\n",
       "    <tr>\n",
       "      <th>15</th>\n",
       "      <td>Andersen, Chris</td>\n",
       "      <td>2001</td>\n",
       "      <td>2365</td>\n",
       "      <td>chris_andersen</td>\n",
       "      <td>1</td>\n",
       "      <td>MIA</td>\n",
       "      <td>Miami</td>\n",
       "      <td>heat</td>\n",
       "      <td>1610612748</td>\n",
       "      <td>Heat</td>\n",
       "      <td>2015</td>\n",
       "    </tr>\n",
       "    <tr>\n",
       "      <th>16</th>\n",
       "      <td>Anderson, Alan</td>\n",
       "      <td>2005</td>\n",
       "      <td>101187</td>\n",
       "      <td>alan_anderson</td>\n",
       "      <td>1</td>\n",
       "      <td>WAS</td>\n",
       "      <td>Washington</td>\n",
       "      <td>wizards</td>\n",
       "      <td>1610612764</td>\n",
       "      <td>Wizards</td>\n",
       "      <td>2015</td>\n",
       "    </tr>\n",
       "    <tr>\n",
       "      <th>17</th>\n",
       "      <td>Anderson, James</td>\n",
       "      <td>2010</td>\n",
       "      <td>202341</td>\n",
       "      <td>james_anderson</td>\n",
       "      <td>1</td>\n",
       "      <td>SAC</td>\n",
       "      <td>Sacramento</td>\n",
       "      <td>kings</td>\n",
       "      <td>1610612758</td>\n",
       "      <td>Kings</td>\n",
       "      <td>2015</td>\n",
       "    </tr>\n",
       "    <tr>\n",
       "      <th>18</th>\n",
       "      <td>Anderson, Justin</td>\n",
       "      <td>2015</td>\n",
       "      <td>1626147</td>\n",
       "      <td>justin_anderson</td>\n",
       "      <td>1</td>\n",
       "      <td>DAL</td>\n",
       "      <td>Dallas</td>\n",
       "      <td>mavericks</td>\n",
       "      <td>1610612742</td>\n",
       "      <td>Mavericks</td>\n",
       "      <td>2015</td>\n",
       "    </tr>\n",
       "    <tr>\n",
       "      <th>19</th>\n",
       "      <td>Anderson, Kyle</td>\n",
       "      <td>2014</td>\n",
       "      <td>203937</td>\n",
       "      <td>kyle_anderson</td>\n",
       "      <td>1</td>\n",
       "      <td>SAS</td>\n",
       "      <td>San Antonio</td>\n",
       "      <td>spurs</td>\n",
       "      <td>1610612759</td>\n",
       "      <td>Spurs</td>\n",
       "      <td>2015</td>\n",
       "    </tr>\n",
       "  </tbody>\n",
       "</table>\n",
       "</div>"
      ],
      "text/plain": [
       "   DISPLAY_LAST_COMMA_FIRST FROM_YEAR  PERSON_ID           PLAYERCODE  \\\n",
       "0               Acy, Quincy      2012     203112           quincy_acy   \n",
       "1             Adams, Jordan      2014     203919         jordan_adams   \n",
       "2             Adams, Steven      2013     203500         steven_adams   \n",
       "3              Adrien, Jeff      2010     202399          jeff_adrien   \n",
       "4            Afflalo, Arron      2007     201167        arron_afflalo   \n",
       "5      Agravanis, Dimitrios      2015    1626231  dimitrios_agravanis   \n",
       "6            Ajinca, Alexis      2008     201582        alexis_ajinca   \n",
       "7           Aldemir, Furkan      2014     203128       furkan_aldemir   \n",
       "8             Aldrich, Cole      2010     202332         cole_aldrich   \n",
       "9        Aldridge, LaMarcus      2006     200746    lamarcus_aldridge   \n",
       "10         Alexander, Cliff      2015    1626146      cliff_alexander   \n",
       "11             Allen, Lavoy      2011     202730          lavoy_allen   \n",
       "12              Allen, Tony      2004       2754           tony_allen   \n",
       "13         Aminu, Al-Farouq      2010     202329      al-farouq_aminu   \n",
       "14            Amundson, Lou      2006     200811         lou_amundson   \n",
       "15          Andersen, Chris      2001       2365       chris_andersen   \n",
       "16           Anderson, Alan      2005     101187        alan_anderson   \n",
       "17          Anderson, James      2010     202341       james_anderson   \n",
       "18         Anderson, Justin      2015    1626147      justin_anderson   \n",
       "19           Anderson, Kyle      2014     203937        kyle_anderson   \n",
       "\n",
       "    ROSTERSTATUS TEAM_ABBREVIATION      TEAM_CITY  TEAM_CODE     TEAM_ID  \\\n",
       "0              1               SAC     Sacramento      kings  1610612758   \n",
       "1              1               MEM        Memphis  grizzlies  1610612763   \n",
       "2              1               OKC  Oklahoma City    thunder  1610612760   \n",
       "3              1               NOP    New Orleans   pelicans  1610612740   \n",
       "4              1               NYK       New York     knicks  1610612752   \n",
       "5              1               ATL        Atlanta      hawks  1610612737   \n",
       "6              1               NOP    New Orleans   pelicans  1610612740   \n",
       "7              1               PHI   Philadelphia     sixers  1610612755   \n",
       "8              1               LAC    Los Angeles   clippers  1610612746   \n",
       "9              1               SAS    San Antonio      spurs  1610612759   \n",
       "10             1               POR       Portland    blazers  1610612757   \n",
       "11             1               IND        Indiana     pacers  1610612754   \n",
       "12             1               MEM        Memphis  grizzlies  1610612763   \n",
       "13             1               POR       Portland    blazers  1610612757   \n",
       "14             1               NYK       New York     knicks  1610612752   \n",
       "15             1               MIA          Miami       heat  1610612748   \n",
       "16             1               WAS     Washington    wizards  1610612764   \n",
       "17             1               SAC     Sacramento      kings  1610612758   \n",
       "18             1               DAL         Dallas  mavericks  1610612742   \n",
       "19             1               SAS    San Antonio      spurs  1610612759   \n",
       "\n",
       "        TEAM_NAME TO_YEAR  \n",
       "0           Kings    2015  \n",
       "1       Grizzlies    2015  \n",
       "2         Thunder    2015  \n",
       "3        Pelicans    2015  \n",
       "4          Knicks    2015  \n",
       "5           Hawks    2015  \n",
       "6        Pelicans    2015  \n",
       "7           76ers    2015  \n",
       "8        Clippers    2015  \n",
       "9           Spurs    2015  \n",
       "10  Trail Blazers    2015  \n",
       "11         Pacers    2015  \n",
       "12      Grizzlies    2015  \n",
       "13  Trail Blazers    2015  \n",
       "14         Knicks    2015  \n",
       "15           Heat    2015  \n",
       "16        Wizards    2015  \n",
       "17          Kings    2015  \n",
       "18      Mavericks    2015  \n",
       "19          Spurs    2015  "
      ]
     },
     "execution_count": 8,
     "metadata": {},
     "output_type": "execute_result"
    }
   ],
   "source": [
    "import goldsberry\n",
    "import pandas as pd\n",
    "playersCurrent = pd.DataFrame(goldsberry.PlayerList(2015))\n",
    "playersCurrent.head(20)\n",
    "\n",
    "\n",
    "\n",
    "\n"
   ]
  },
  {
   "cell_type": "markdown",
   "metadata": {},
   "source": [
    "# Problem 2: Shot Chart of the Player (15 points)"
   ]
  },
  {
   "cell_type": "markdown",
   "metadata": {},
   "source": [
    "* Select a player that you are interested in, for example, \"Yao Ming\", or \"Carmelo Anthony\". You can get the player's ID from the data in Problem 1.\n",
    "* Edit this cell and get the photo of the player from NBA stats website based upon the player id.\n",
    "\n",
    "For example:<br>\n",
    "\n",
    "<img src=\"http://stats.nba.com/media/players/230x185/2546.png\" width=\"200px\">\n",
    "\n",
    "* Use NBA Shot API of nbastats library to collect the shot data of the player. \n",
    "* show the top 20 rows of the list.\n",
    "\n"
   ]
  },
  {
   "cell_type": "code",
   "execution_count": 9,
   "metadata": {
    "collapsed": false
   },
   "outputs": [
    {
     "ename": "ImportError",
     "evalue": "No module named nbastats.nbastats",
     "output_type": "error",
     "traceback": [
      "\u001b[1;31m---------------------------------------------------------------------------\u001b[0m",
      "\u001b[1;31mImportError\u001b[0m                               Traceback (most recent call last)",
      "\u001b[1;32m<ipython-input-9-0034b4f4fc99>\u001b[0m in \u001b[0;36m<module>\u001b[1;34m()\u001b[0m\n\u001b[0;32m      1\u001b[0m \u001b[0mget_ipython\u001b[0m\u001b[1;33m(\u001b[0m\u001b[1;33m)\u001b[0m\u001b[1;33m.\u001b[0m\u001b[0mmagic\u001b[0m\u001b[1;33m(\u001b[0m\u001b[1;34mu'matplotlib inline'\u001b[0m\u001b[1;33m)\u001b[0m\u001b[1;33m\u001b[0m\u001b[0m\n\u001b[1;32m----> 2\u001b[1;33m \u001b[1;32mimport\u001b[0m \u001b[0mnbastats\u001b[0m\u001b[1;33m.\u001b[0m\u001b[0mnbastats\u001b[0m \u001b[1;32mas\u001b[0m \u001b[0mnbastats\u001b[0m\u001b[1;33m\u001b[0m\u001b[0m\n\u001b[0m\u001b[0;32m      3\u001b[0m \u001b[1;33m\u001b[0m\u001b[0m\n\u001b[0;32m      4\u001b[0m \u001b[1;33m\u001b[0m\u001b[0m\n\u001b[0;32m      5\u001b[0m \u001b[1;33m\u001b[0m\u001b[0m\n",
      "\u001b[1;31mImportError\u001b[0m: No module named nbastats.nbastats"
     ]
    }
   ],
   "source": [
    "%matplotlib inline\n",
    "import nbastats.nbastats as nbastats\n",
    "\n",
    "\n",
    "\n"
   ]
  },
  {
   "cell_type": "markdown",
   "metadata": {},
   "source": [
    "* plot the player's shot data points in a figure "
   ]
  },
  {
   "cell_type": "code",
   "execution_count": 3,
   "metadata": {
    "collapsed": false
   },
   "outputs": [],
   "source": [
    "import matplotlib.pyplot as plt\n",
    "import pandas as pd\n",
    "import seaborn as sns\n",
    "\n",
    "#-------------------------------\n",
    "# Your code goes here.\n",
    "# Add as many cells as you need\n",
    "#-------------------------------\n",
    "\n"
   ]
  },
  {
   "cell_type": "markdown",
   "metadata": {},
   "source": [
    "* plot the distribution of shots in the court in another figure using bar plot, heat map, etc."
   ]
  },
  {
   "cell_type": "code",
   "execution_count": 5,
   "metadata": {
    "collapsed": false
   },
   "outputs": [],
   "source": [
    "#-------------------------------\n",
    "# Your code goes here.\n",
    "# Add as many cells as you need\n",
    "#-------------------------------\n",
    "\n",
    "\n",
    "\n"
   ]
  },
  {
   "cell_type": "markdown",
   "metadata": {},
   "source": [
    "# Problem 3: Game Moments (20 points)"
   ]
  },
  {
   "cell_type": "markdown",
   "metadata": {},
   "source": [
    "* from the list in question 2, select one of the shots by the player, which you liked the most. Remember the GAME_ID and game_event_id of the shot.\n",
    "* use the the GAME_ID and game_event_id to show the animation of the moment of the game.\n"
   ]
  },
  {
   "cell_type": "code",
   "execution_count": 2,
   "metadata": {
    "collapsed": false
   },
   "outputs": [
    {
     "data": {
      "text/html": [
       "\n",
       "        <iframe\n",
       "            width=\"700\"\n",
       "            height=\"400\"\n",
       "            src=\"http://stats.nba.com/movement/#!/?GameID=0021400007&GameEventID=116\"\n",
       "            frameborder=\"0\"\n",
       "            allowfullscreen\n",
       "        ></iframe>\n",
       "        "
      ],
      "text/plain": [
       "<IPython.lib.display.IFrame at 0x3b9d9b0>"
      ]
     },
     "execution_count": 2,
     "metadata": {},
     "output_type": "execute_result"
    }
   ],
   "source": [
    "from IPython.display import IFrame\n",
    "#-------------------------------\n",
    "# Your code goes here.\n",
    "# Add as many cells as you need\n",
    "#-------------------------------\n",
    "\n",
    "# Here is an example, please change it according to your game id and event id.\n",
    "IFrame('http://stats.nba.com/movement/#!/?GameID=0021400007&GameEventID=116',\n",
    "              width=700, height=400)"
   ]
  },
  {
   "cell_type": "markdown",
   "metadata": {},
   "source": [
    "* Download the movement data of all the players in this game event.\n",
    "* load the data into a pandas data frame\n",
    "* create a  list containing the movement data for each player and the ball."
   ]
  },
  {
   "cell_type": "code",
   "execution_count": 4,
   "metadata": {
    "collapsed": false
   },
   "outputs": [],
   "source": [
    "import requests\n",
    "\n",
    "#-------------------------------\n",
    "# Your code goes here.\n",
    "# Add as many cells as you need\n",
    "#-------------------------------\n",
    "# Here is an example of the URL, please change it according to your game id and event id.\n",
    "url = \"http://stats.nba.com/stats/locations_getmoments/?eventid=308&gameid=0041400235\"\n",
    "\n",
    "\n"
   ]
  },
  {
   "cell_type": "markdown",
   "metadata": {},
   "source": [
    "* Plotting the Movements: plot the player's movements throughout the event in a figure."
   ]
  },
  {
   "cell_type": "code",
   "execution_count": 26,
   "metadata": {
    "collapsed": false
   },
   "outputs": [],
   "source": [
    "#-------------------------------\n",
    "# Your code goes here.\n",
    "# Add as many cells as you need\n",
    "#-------------------------------\n",
    "\n",
    "\n",
    "\n",
    "\n",
    "\n"
   ]
  },
  {
   "cell_type": "markdown",
   "metadata": {},
   "source": [
    "* Compute some basic statistics of the players: distance traveled, average running speed, average distances from other players\n"
   ]
  },
  {
   "cell_type": "code",
   "execution_count": 29,
   "metadata": {
    "collapsed": false
   },
   "outputs": [],
   "source": [
    "#-------------------------------\n",
    "# Your code goes here.\n",
    "# Add as many cells as you need\n",
    "#-------------------------------\n",
    "\n",
    "\n",
    "\n"
   ]
  },
  {
   "cell_type": "markdown",
   "metadata": {},
   "source": [
    "* Take a close look at the exact second when the player scored, plot a figure to show the distance between the player and the ball in that second\n",
    "* draw a vertical line in the figure, indicating the approximate moment of the ball arrive/leave the player's hand.\n"
   ]
  },
  {
   "cell_type": "code",
   "execution_count": 31,
   "metadata": {
    "collapsed": false
   },
   "outputs": [],
   "source": [
    "#-------------------------------\n",
    "# Your code goes here.\n",
    "# Add as many cells as you need\n",
    "#-------------------------------\n",
    "\n",
    "\n"
   ]
  },
  {
   "cell_type": "markdown",
   "metadata": {},
   "source": [
    "* Compute some statistics of the game moment and use these results to plot a figure and tell a story about why/how the player/team successfully scored in that moment."
   ]
  },
  {
   "cell_type": "code",
   "execution_count": 1,
   "metadata": {
    "collapsed": false
   },
   "outputs": [],
   "source": [
    "#-------------------------------\n",
    "# Your code goes here.\n",
    "# Add as many cells as you need\n",
    "#-------------------------------\n",
    "\n",
    "\n",
    "\n"
   ]
  },
  {
   "cell_type": "markdown",
   "metadata": {},
   "source": [
    "*------------------------\n",
    "\n",
    "#Problem 4: Explore the data  (20 points)\n",
    "\n",
    "Run some additional experiments with the NBA data and the API.\n",
    "For example, \n",
    "* can you put together of a team of best players, based upon their statistical data.\n",
    "* Which team do you predict that will win the next NBA finals based upon the historical data of the players and the team.\n",
    "* Can you predict the NBA all-star team, based upon their performance data in the season?\n",
    "\n",
    "Define your own interesting question, collect the related data, compute the statistics, and visualize the results."
   ]
  },
  {
   "cell_type": "code",
   "execution_count": 34,
   "metadata": {
    "collapsed": false
   },
   "outputs": [],
   "source": [
    "#-------------------------------\n",
    "# Your code goes here.\n",
    "# Add as many cells as you need\n",
    "#-------------------------------\n",
    "\n",
    "\n",
    "\n",
    "\n"
   ]
  },
  {
   "cell_type": "markdown",
   "metadata": {},
   "source": [
    "# Bonus Question in Presentation Slides (10 points)"
   ]
  },
  {
   "cell_type": "markdown",
   "metadata": {},
   "source": [
    "* Watch the movie Moneyball. While watching, take brief notes on how data science made a difference to the characters in the movie. After the movie is over, brainstorm as a group, other areas of life where data science could make a difference. Speculate on the arguments opponents of data science might make to using data science. Pick one for further consideration. As a group, create a 4 slide presentation that introduces the area of life you picked; how data science would make a difference; what the counter-arguments are; and whether or not your group thinks, in the end, it would be a good idea to introduce data science into that area of life. "
   ]
  },
  {
   "cell_type": "markdown",
   "metadata": {},
   "source": [
    "*-----------------\n",
    "# Done\n",
    "\n",
    "All set! \n",
    "\n",
    "** What do you need to submit?**\n",
    "\n",
    "* **Notebook File**: Save this IPython notebook, and find the notebook file in your folder (for example, \"filename.ipynb\"). This is the file you need to submit. Please make sure all the plotted tables and figures are in the notebook. \n",
    "\n",
    "\n",
    "* **PPT Slides**: please prepare PPT slides (for 10 minutes' talk) to present about the case study . We will ask two teams which are randomly selected to present their case studies in class for this case study. \n",
    "\n",
    "* ** Report**: please prepare a report (less than 10 pages) to report what you found in the data.\n",
    "    * What data you collected? \n",
    "    * Why this player/team/problem is interesting or important to you? (Motivations)\n",
    "    * How did you analyse the data?\n",
    "    * What did you find in the data? \n",
    " \n",
    "     (please include figures or tables in the report, but no source code)\n",
    "\n",
    "Please compress all the files in a zipped file.\n",
    "\n"
   ]
  },
  {
   "cell_type": "markdown",
   "metadata": {},
   "source": [
    "# Grading Criteria:\n",
    "\n",
    "** Totoal Points: 100 **\n",
    "\n",
    "\n",
    "---------------------------------------------------------------------------\n",
    "** Notebook:  **\n",
    "    Points: 60\n",
    "\n",
    "\n",
    "    -----------------------------------\n",
    "    Qestion 1:\n",
    "    Points: 5\n",
    "    -----------------------------------\n",
    "    \n",
    "\n",
    "    -----------------------------------\n",
    "    Qestion 2:\n",
    "    Points: 15\n",
    "    -----------------------------------\n",
    "    \n",
    "    \n",
    "    -----------------------------------\n",
    "    Qestion 3:\n",
    "    Points: 20\n",
    "    -----------------------------------\n",
    "    \n",
    "    -----------------------------------\n",
    "    Problem 4: \n",
    "    Points: 20\n",
    "    -----------------------------------\n",
    "  \n",
    "\n",
    "---------------------------------------------------------------------------\n",
    "** Report: communicate the results**\n",
    "    Points: 20\n",
    "\n",
    "(1) What data you collected?\n",
    "    Points: 5 \n",
    "\n",
    "(2) Why this problem/player/team/game moment is interesting or important to you? (Motivations)\n",
    "    Points: 5 \n",
    "\n",
    "(3) How did you analyse the data?\n",
    "    Points: 5 \n",
    "\n",
    "(4) What did you find in the data?\n",
    "(please include figures or tables in the report, but no source code)\n",
    "    Points: 5 \n",
    "\n",
    "\n",
    "\n",
    "---------------------------------------------------------------------------\n",
    "** Slides (for 10 minutes of presentation): Story-telling **\n",
    "    Points: 20\n",
    "\n",
    "\n",
    "1. Motivation about the data collection, why the problem/player/team/game moment is interesting to you.\n",
    "    Points: 5 \n",
    "\n",
    "2. Communicating Results (figure/table)\n",
    "    Points: 10 \n",
    "\n",
    "3. Story telling (How all the parts (data, analysis, result) fit together as a story?)\n",
    "    Points: 5 \n",
    "\n"
   ]
  },
  {
   "cell_type": "code",
   "execution_count": null,
   "metadata": {
    "collapsed": false
   },
   "outputs": [],
   "source": []
  }
 ],
 "metadata": {
  "kernelspec": {
   "display_name": "Python 2",
   "language": "python",
   "name": "python2"
  },
  "language_info": {
   "codemirror_mode": {
    "name": "ipython",
    "version": 2
   },
   "file_extension": ".py",
   "mimetype": "text/x-python",
   "name": "python",
   "nbconvert_exporter": "python",
   "pygments_lexer": "ipython2",
   "version": "2.7.6"
  }
 },
 "nbformat": 4,
 "nbformat_minor": 0
}
